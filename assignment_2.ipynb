{
  "nbformat": 4,
  "nbformat_minor": 0,
  "metadata": {
    "colab": {
      "name": "assignment-2.ipynb",
      "provenance": [],
      "authorship_tag": "ABX9TyMQpapxkCdQ0zfOoqQfZA48",
      "include_colab_link": true
    },
    "kernelspec": {
      "name": "python3",
      "display_name": "Python 3"
    },
    "language_info": {
      "name": "python"
    }
  },
  "cells": [
    {
      "cell_type": "markdown",
      "metadata": {
        "id": "view-in-github",
        "colab_type": "text"
      },
      "source": [
        "<a href=\"https://colab.research.google.com/github/koppalamounika/nndl/blob/main/assignment_2.ipynb\" target=\"_parent\"><img src=\"https://colab.research.google.com/assets/colab-badge.svg\" alt=\"Open In Colab\"/></a>"
      ]
    },
    {
      "cell_type": "code",
      "metadata": {
        "colab": {
          "base_uri": "https://localhost:8080/"
        },
        "id": "pHvcNolQwZC3",
        "outputId": "a8beb77e-4f16-4cb9-9581-84a4e909898a"
      },
      "source": [
        "from sympy import Symbol, Derivative, symbols\n",
        "x= Symbol('x')\n",
        "y= Symbol('y')\n",
        "function = x**2 + y**2 + 10\n",
        "partialderiv= Derivative(function, y)\n",
        "dfy = partialderiv.doit()\n",
        "partialderiv= Derivative(function, x)\n",
        "dfx = partialderiv.doit()\n",
        "print(f'first order derivatives of given function are df/dx = {dfx} ,df/dy = {dfy}')\n",
        "x1 = 1.0 \n",
        "y1 = 2.0  \n",
        "itr = 100  #epochs\n",
        "learning_rate = 0.1  #learning rate\n",
        "for i in range(0,itr):\n",
        "    #finding derivatives\n",
        "    x = symbols('x')\n",
        "    y = symbols('y')\n",
        "    dfxv = dfx.subs(x, x1) \n",
        "    dfxv = round(dfxv,2)\n",
        "    dfyv = dfy.subs(y, y1) \n",
        "    dfyv = round(dfyv,2)\n",
        "    #step3 find change in x , y\n",
        "    dx = (-1.0)*learning_rate*dfxv\n",
        "    dy = (-1.0)*learning_rate*dfyv\n",
        "    # update variables \n",
        "    x1 = x1 + dx\n",
        "    x1 = round(x1, 2) \n",
        "    y1 = y1 + dy\n",
        "    y1 = round(y1, 2)\n",
        "    #increment iterations \n",
        "    #break loop if iterations exceed no of epochs\n",
        "#print variables\n",
        "print(x1 , y1)\n",
        "print(f\"minimum value obtained at x = {x1} ,y ={y1} \")"
      ],
      "execution_count": 9,
      "outputs": [
        {
          "output_type": "stream",
          "text": [
            "first order derivatives of given function are df/dx = 2*x ,df/dy = 2*y\n",
            "0.02 0.02\n",
            "minimum value obtained at x = 0.02 ,y =0.02 \n"
          ],
          "name": "stdout"
        }
      ]
    }
  ]
}