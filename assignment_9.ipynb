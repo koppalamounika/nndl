{
  "nbformat": 4,
  "nbformat_minor": 0,
  "metadata": {
    "colab": {
      "name": "assignment_9.ipynb",
      "provenance": [],
      "authorship_tag": "ABX9TyPjgmXjP0vWmK+UmALEmo+t",
      "include_colab_link": true
    },
    "kernelspec": {
      "name": "python3",
      "display_name": "Python 3"
    },
    "language_info": {
      "name": "python"
    }
  },
  "cells": [
    {
      "cell_type": "markdown",
      "metadata": {
        "id": "view-in-github",
        "colab_type": "text"
      },
      "source": [
        "<a href=\"https://colab.research.google.com/github/koppalamounika/nndl/blob/main/assignment_9.ipynb\" target=\"_parent\"><img src=\"https://colab.research.google.com/assets/colab-badge.svg\" alt=\"Open In Colab\"/></a>"
      ]
    },
    {
      "cell_type": "markdown",
      "metadata": {
        "id": "3NXKQjZjT4Ww"
      },
      "source": [
        "**MOMENTUM OPTIMIZER**"
      ]
    },
    {
      "cell_type": "code",
      "metadata": {
        "id": "jQBrTpgTVPVG"
      },
      "source": [
        "from sklearn.metrics import mean_squared_error\n",
        "from sympy import Symbol, Derivative, symbols"
      ],
      "execution_count": 3,
      "outputs": []
    },
    {
      "cell_type": "code",
      "metadata": {
        "colab": {
          "base_uri": "https://localhost:8080/"
        },
        "id": "UhZ9Sq7vTP0P",
        "outputId": "1671cca3-ee07-4628-8954-85f9246b4709"
      },
      "source": [
        "# algorithm code\n",
        "\n",
        "m= Symbol('m')\n",
        "c= Symbol('c')\n",
        "function = '0.5*(y-m*x-c)**2'\n",
        "partialderiv= Derivative(function, m)\n",
        "dfm = partialderiv.doit()\n",
        "partialderiv= Derivative(function, c)\n",
        "dfc = partialderiv.doit()\n",
        "xa = [0.2,0.4,0.6,0.8]\n",
        "ya = [3.4,3.8,4.2,4.6]\n",
        "m1 = 1.0 \n",
        "c1 = 2.0  \n",
        "itr = 150  \n",
        "gama = 0.9\n",
        "vm = vc = 0\n",
        "learning_rate = 0.1  \n",
        "for i in range(0,itr):\n",
        "    for j in range(0,len(xa)):\n",
        "        m = symbols('m')\n",
        "        c = symbols('c')\n",
        "        x = symbols('x')\n",
        "        y = symbols('y')\n",
        "        dfmv = dfm.subs(m, m1) \n",
        "        dfmv = dfmv.subs(c, c1) \n",
        "        dfmv = dfmv.subs(x, xa[j]) \n",
        "        dfmv = dfmv.subs(y, ya[j]) \n",
        "        dfmv = round(dfmv,2)\n",
        "        dfcv = dfc.subs(c, c1) \n",
        "        dfcv = dfcv.subs(m, m1) \n",
        "        dfcv = dfcv.subs(x, xa[j]) \n",
        "        dfcv = dfcv.subs(y, ya[j]) \n",
        "        dfcv = round(dfcv,2)\n",
        "        vm = (gama * vm)-(learning_rate*dfmv)\n",
        "        vc = (gama * vc)-(learning_rate*dfcv)\n",
        "        m1 = m1 + vm\n",
        "        m1 = round(m1, 2) \n",
        "        c1 = c1 + vc\n",
        "        c1 = round(c1, 2)\n",
        "print(\"m = {} , c = {}\".format(m1, c1))\n",
        "print(\"minimum value obtained at m = {} ,c ={}\".format(m1,c1))"
      ],
      "execution_count": 12,
      "outputs": [
        {
          "output_type": "stream",
          "text": [
            "m = 2.01 , c = 3.00000000000000\n",
            "minimum value obtained at m = 2.01 ,c =3.00000000000000\n"
          ],
          "name": "stdout"
        }
      ]
    },
    {
      "cell_type": "code",
      "metadata": {
        "colab": {
          "base_uri": "https://localhost:8080/"
        },
        "id": "-_olPoQ7U_2I",
        "outputId": "95247c4d-1681-47b9-fc77-231241c8ca0f"
      },
      "source": [
        "# error \n",
        "\n",
        "data_pred = []\n",
        "for i in xa:\n",
        "    data_pred.append(m1*i+c1)\n",
        "    \n",
        "mse = mean_squared_error(ya,data_pred)\n",
        "print(\"mean square error : {}\".format(mse))"
      ],
      "execution_count": 13,
      "outputs": [
        {
          "output_type": "stream",
          "text": [
            "mean square error : 2.86102294921875e-05\n"
          ],
          "name": "stdout"
        }
      ]
    }
  ]
}